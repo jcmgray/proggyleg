{
 "cells": [
  {
   "cell_type": "markdown",
   "id": "800b21ea",
   "metadata": {},
   "source": [
    "# 2023 / 2024\n",
    "\n",
    "Progress points for the Premier League 2023 / 2024 season."
   ]
  },
  {
   "cell_type": "code",
   "execution_count": null,
   "id": "86474230",
   "metadata": {
    "execution": {
     "iopub.execute_input": "2024-04-03T21:10:33.486057Z",
     "iopub.status.busy": "2024-04-03T21:10:33.485360Z",
     "iopub.status.idle": "2024-04-03T21:10:33.792610Z",
     "shell.execute_reply": "2024-04-03T21:10:33.792086Z"
    }
   },
   "outputs": [],
   "source": [
    "%config InlineBackend.figure_formats = ['svg']\n",
    "from proggyleg import proggyleg\n",
    "year = 2023\n",
    "league = \"E0\""
   ]
  },
  {
   "cell_type": "markdown",
   "id": "3d0995b3",
   "metadata": {},
   "source": [
    "## Cumulative Points\n",
    "\n",
    "The sum of points up to a given game played."
   ]
  },
  {
   "cell_type": "code",
   "execution_count": null,
   "id": "840dc4a8",
   "metadata": {
    "execution": {
     "iopub.execute_input": "2024-04-03T21:10:33.794386Z",
     "iopub.status.busy": "2024-04-03T21:10:33.794158Z",
     "iopub.status.idle": "2024-04-03T21:10:35.510632Z",
     "shell.execute_reply": "2024-04-03T21:10:35.508387Z"
    }
   },
   "outputs": [],
   "source": [
    "proggyleg.autoplot(year, league, which=\"cumulative\");"
   ]
  },
  {
   "cell_type": "markdown",
   "id": "705ce765",
   "metadata": {},
   "source": [
    "## Extrapolated Points\n",
    "\n",
    "Final points assuming each team continues to score points at the same rate as they have so far."
   ]
  },
  {
   "cell_type": "code",
   "execution_count": null,
   "id": "e42d84c1",
   "metadata": {
    "execution": {
     "iopub.execute_input": "2024-04-03T21:10:35.521177Z",
     "iopub.status.busy": "2024-04-03T21:10:35.520448Z",
     "iopub.status.idle": "2024-04-03T21:10:35.844460Z",
     "shell.execute_reply": "2024-04-03T21:10:35.844013Z"
    }
   },
   "outputs": [],
   "source": [
    "proggyleg.autoplot(year, league, which=\"extrapolated\");"
   ]
  },
  {
   "cell_type": "markdown",
   "id": "0eba998b",
   "metadata": {},
   "source": [
    "## Position"
   ]
  },
  {
   "cell_type": "code",
   "execution_count": null,
   "id": "9a089f8f",
   "metadata": {
    "execution": {
     "iopub.execute_input": "2024-04-03T21:10:35.846089Z",
     "iopub.status.busy": "2024-04-03T21:10:35.845955Z",
     "iopub.status.idle": "2024-04-03T21:10:36.065579Z",
     "shell.execute_reply": "2024-04-03T21:10:36.064957Z"
    }
   },
   "outputs": [],
   "source": [
    "proggyleg.autoplot(year, league, which=\"position\");"
   ]
  },
  {
   "cell_type": "markdown",
   "id": "dd73fd59",
   "metadata": {},
   "source": [
    "## Rolling Form\n",
    "\n",
    "Exponential weighted moving average of points won per game."
   ]
  },
  {
   "cell_type": "code",
   "execution_count": null,
   "id": "223add20",
   "metadata": {
    "execution": {
     "iopub.execute_input": "2024-04-03T21:10:36.067637Z",
     "iopub.status.busy": "2024-04-03T21:10:36.067332Z",
     "iopub.status.idle": "2024-04-03T21:10:36.356938Z",
     "shell.execute_reply": "2024-04-03T21:10:36.356441Z"
    }
   },
   "outputs": [],
   "source": [
    "proggyleg.autoplot(year, league, which=\"form\");"
   ]
  }
 ],
 "metadata": {
  "kernelspec": {
   "display_name": "docs",
   "language": "python",
   "name": "python3"
  },
  "language_info": {
   "codemirror_mode": {
    "name": "ipython",
    "version": 3
   },
   "file_extension": ".py",
   "mimetype": "text/x-python",
   "name": "python",
   "nbconvert_exporter": "python",
   "pygments_lexer": "ipython3",
   "version": "3.11.4"
  },
  "mystnb": {
   "execution_mode": "force"
  }
 },
 "nbformat": 4,
 "nbformat_minor": 5
}
