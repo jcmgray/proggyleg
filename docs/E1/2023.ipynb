{
 "cells": [
  {
   "cell_type": "markdown",
   "id": "fb69f185",
   "metadata": {},
   "source": [
    "# 2023 / 2024\n",
    "\n",
    "Progress points for the Championship 2023 / 2024 season."
   ]
  },
  {
   "cell_type": "code",
   "execution_count": null,
   "id": "20d6c86c",
   "metadata": {
    "execution": {
     "iopub.execute_input": "2024-04-05T16:22:55.215932Z",
     "iopub.status.busy": "2024-04-05T16:22:55.215435Z",
     "iopub.status.idle": "2024-04-05T16:22:55.437380Z",
     "shell.execute_reply": "2024-04-05T16:22:55.437055Z"
    }
   },
   "outputs": [],
   "source": [
    "%config InlineBackend.figure_formats = ['svg']\n",
    "from proggyleg import proggyleg\n",
    "year = 2023\n",
    "league = \"E1\""
   ]
  },
  {
   "cell_type": "markdown",
   "id": "7834c4e1",
   "metadata": {},
   "source": [
    "## Cumulative Points\n",
    "\n",
    "The sum of points up to a given game played."
   ]
  },
  {
   "cell_type": "code",
   "execution_count": null,
   "id": "291f3110",
   "metadata": {
    "execution": {
     "iopub.execute_input": "2024-04-05T16:22:55.439252Z",
     "iopub.status.busy": "2024-04-05T16:22:55.439130Z",
     "iopub.status.idle": "2024-04-05T16:22:57.121624Z",
     "shell.execute_reply": "2024-04-05T16:22:57.121315Z"
    }
   },
   "outputs": [],
   "source": [
    "proggyleg.autoplot(year, league, which=\"cumulative\");"
   ]
  },
  {
   "cell_type": "markdown",
   "id": "24f42a54",
   "metadata": {},
   "source": [
    "## Extrapolated Points\n",
    "\n",
    "Final points assuming each team continues to score points at the same rate as they have so far."
   ]
  },
  {
   "cell_type": "code",
   "execution_count": null,
   "id": "9cc7333f",
   "metadata": {
    "execution": {
     "iopub.execute_input": "2024-04-05T16:22:57.123498Z",
     "iopub.status.busy": "2024-04-05T16:22:57.123419Z",
     "iopub.status.idle": "2024-04-05T16:22:57.287556Z",
     "shell.execute_reply": "2024-04-05T16:22:57.287241Z"
    }
   },
   "outputs": [],
   "source": [
    "proggyleg.autoplot(year, league, which=\"extrapolated\");"
   ]
  },
  {
   "cell_type": "markdown",
   "id": "f784684d",
   "metadata": {},
   "source": [
    "## Position"
   ]
  },
  {
   "cell_type": "code",
   "execution_count": null,
   "id": "c55290e6",
   "metadata": {
    "execution": {
     "iopub.execute_input": "2024-04-05T16:22:57.289520Z",
     "iopub.status.busy": "2024-04-05T16:22:57.289417Z",
     "iopub.status.idle": "2024-04-05T16:22:57.411447Z",
     "shell.execute_reply": "2024-04-05T16:22:57.411182Z"
    }
   },
   "outputs": [],
   "source": [
    "proggyleg.autoplot(year, league, which=\"position\");"
   ]
  },
  {
   "cell_type": "markdown",
   "id": "4e368830",
   "metadata": {},
   "source": [
    "## Rolling Form\n",
    "\n",
    "Exponential weighted moving average of points won per game."
   ]
  },
  {
   "cell_type": "code",
   "execution_count": null,
   "id": "c649b373",
   "metadata": {
    "execution": {
     "iopub.execute_input": "2024-04-05T16:22:57.413230Z",
     "iopub.status.busy": "2024-04-05T16:22:57.413136Z",
     "iopub.status.idle": "2024-04-05T16:22:57.556123Z",
     "shell.execute_reply": "2024-04-05T16:22:57.555821Z"
    }
   },
   "outputs": [],
   "source": [
    "proggyleg.autoplot(year, league, which=\"form\");"
   ]
  }
 ],
 "metadata": {
  "kernelspec": {
   "display_name": "docs",
   "language": "python",
   "name": "python3"
  },
  "language_info": {
   "codemirror_mode": {
    "name": "ipython",
    "version": 3
   },
   "file_extension": ".py",
   "mimetype": "text/x-python",
   "name": "python",
   "nbconvert_exporter": "python",
   "pygments_lexer": "ipython3",
   "version": "3.11.4"
  },
  "mystnb": {
   "execution_mode": "force"
  }
 },
 "nbformat": 4,
 "nbformat_minor": 5
}
