{
 "cells": [
  {
   "cell_type": "markdown",
   "id": "ed8fb6d5",
   "metadata": {},
   "source": [
    "# 2023 / 2024\n",
    "\n",
    "Progress points for the Bundesliga 2023 / 2024 season."
   ]
  },
  {
   "cell_type": "code",
   "execution_count": null,
   "id": "3e54e939",
   "metadata": {
    "execution": {
     "iopub.execute_input": "2024-04-05T17:21:25.444494Z",
     "iopub.status.busy": "2024-04-05T17:21:25.444145Z",
     "iopub.status.idle": "2024-04-05T17:21:25.661683Z",
     "shell.execute_reply": "2024-04-05T17:21:25.661383Z"
    }
   },
   "outputs": [],
   "source": [
    "%config InlineBackend.figure_formats = ['svg']\n",
    "from proggyleg import proggyleg\n",
    "year = 2023\n",
    "league = \"D1\""
   ]
  },
  {
   "cell_type": "markdown",
   "id": "c21b210f",
   "metadata": {},
   "source": [
    "## Cumulative Points\n",
    "\n",
    "The sum of points up to a given game played."
   ]
  },
  {
   "cell_type": "code",
   "execution_count": null,
   "id": "24eca409",
   "metadata": {
    "execution": {
     "iopub.execute_input": "2024-04-05T17:21:25.663447Z",
     "iopub.status.busy": "2024-04-05T17:21:25.663335Z",
     "iopub.status.idle": "2024-04-05T17:21:27.099575Z",
     "shell.execute_reply": "2024-04-05T17:21:27.099304Z"
    }
   },
   "outputs": [],
   "source": [
    "proggyleg.autoplot(year, league, which=\"cumulative\");"
   ]
  },
  {
   "cell_type": "markdown",
   "id": "640e4553",
   "metadata": {},
   "source": [
    "## Extrapolated Points\n",
    "\n",
    "Final points assuming each team continues to score points at the same rate as they have so far."
   ]
  },
  {
   "cell_type": "code",
   "execution_count": null,
   "id": "e1dd9c1d",
   "metadata": {
    "execution": {
     "iopub.execute_input": "2024-04-05T17:21:27.101609Z",
     "iopub.status.busy": "2024-04-05T17:21:27.101497Z",
     "iopub.status.idle": "2024-04-05T17:21:27.226783Z",
     "shell.execute_reply": "2024-04-05T17:21:27.226484Z"
    }
   },
   "outputs": [],
   "source": [
    "proggyleg.autoplot(year, league, which=\"extrapolated\");"
   ]
  },
  {
   "cell_type": "markdown",
   "id": "9ca7529b",
   "metadata": {},
   "source": [
    "## Position"
   ]
  },
  {
   "cell_type": "code",
   "execution_count": null,
   "id": "92dbcab6",
   "metadata": {
    "execution": {
     "iopub.execute_input": "2024-04-05T17:21:27.228366Z",
     "iopub.status.busy": "2024-04-05T17:21:27.228263Z",
     "iopub.status.idle": "2024-04-05T17:21:27.313631Z",
     "shell.execute_reply": "2024-04-05T17:21:27.313375Z"
    }
   },
   "outputs": [],
   "source": [
    "proggyleg.autoplot(year, league, which=\"position\");"
   ]
  },
  {
   "cell_type": "markdown",
   "id": "2d85ecc4",
   "metadata": {},
   "source": [
    "## Rolling Form\n",
    "\n",
    "Exponential weighted moving average of points won per game."
   ]
  },
  {
   "cell_type": "code",
   "execution_count": null,
   "id": "41ef5957",
   "metadata": {
    "execution": {
     "iopub.execute_input": "2024-04-05T17:21:27.315209Z",
     "iopub.status.busy": "2024-04-05T17:21:27.315115Z",
     "iopub.status.idle": "2024-04-05T17:21:27.433218Z",
     "shell.execute_reply": "2024-04-05T17:21:27.432893Z"
    }
   },
   "outputs": [],
   "source": [
    "proggyleg.autoplot(year, league, which=\"form\");"
   ]
  }
 ],
 "metadata": {
  "language_info": {
   "codemirror_mode": {
    "name": "ipython",
    "version": 3
   },
   "file_extension": ".py",
   "mimetype": "text/x-python",
   "name": "python",
   "nbconvert_exporter": "python",
   "pygments_lexer": "ipython3",
   "version": "3.11.4"
  },
  "mystnb": {
   "execution_mode": "force"
  }
 },
 "nbformat": 4,
 "nbformat_minor": 5
}
