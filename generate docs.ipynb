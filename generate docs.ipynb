{
 "cells": [
  {
   "cell_type": "markdown",
   "id": "36c87f20-517d-475c-a346-519abf3c3fb9",
   "metadata": {},
   "source": [
    "# generate notebooks"
   ]
  },
  {
   "cell_type": "code",
   "execution_count": 2,
   "id": "02edafad-5cf1-4d9a-a6fc-bdac809adf43",
   "metadata": {},
   "outputs": [
    {
     "name": "stdout",
     "output_type": "stream",
     "text": [
      "2025 D1\n",
      "done!\n",
      "2025 E0\n",
      "done!\n",
      "2025 E1\n",
      "done!\n",
      "2025 E2\n",
      "done!\n",
      "2025 I1\n",
      "done!\n",
      "2025 SC0\n",
      "done!\n",
      "2025 SP1\n",
      "done!\n"
     ]
    }
   ],
   "source": [
    "from proggyleg.proggyleg import generate_notebook_doc, execute_notebook_doc\n",
    "\n",
    "year = 2025\n",
    "\n",
    "combos = [\n",
    "    (\"D1\", year),\n",
    "    (\"E0\", year),\n",
    "    (\"E1\", year),\n",
    "    (\"E2\", year),\n",
    "    (\"I1\", year),\n",
    "    (\"SC0\", year),\n",
    "    (\"SP1\", year),\n",
    "]\n",
    "\n",
    "for league, year in combos:\n",
    "    print(year, league)\n",
    "    generate_notebook_doc(year, league)\n",
    "    execute_notebook_doc(year, league)\n",
    "    print(\"done!\")"
   ]
  }
 ],
 "metadata": {
  "kernelspec": {
   "display_name": "default",
   "language": "python",
   "name": "python3"
  },
  "language_info": {
   "codemirror_mode": {
    "name": "ipython",
    "version": 3
   },
   "file_extension": ".py",
   "mimetype": "text/x-python",
   "name": "python",
   "nbconvert_exporter": "python",
   "pygments_lexer": "ipython3",
   "version": "3.13.7"
  }
 },
 "nbformat": 4,
 "nbformat_minor": 2
}
