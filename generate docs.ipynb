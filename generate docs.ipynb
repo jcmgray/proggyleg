{
 "cells": [
  {
   "cell_type": "markdown",
   "id": "36c87f20-517d-475c-a346-519abf3c3fb9",
   "metadata": {},
   "source": [
    "# generate notebooks"
   ]
  },
  {
   "cell_type": "code",
   "execution_count": 1,
   "id": "02edafad-5cf1-4d9a-a6fc-bdac809adf43",
   "metadata": {},
   "outputs": [
    {
     "name": "stdout",
     "output_type": "stream",
     "text": [
      "2020 FR1\n",
      "done!\n",
      "2021 FR1\n",
      "done!\n",
      "2022 FR1\n",
      "done!\n",
      "2023 FR1\n",
      "done!\n",
      "2024 FR1\n",
      "done!\n",
      "2025 FR1\n",
      "done!\n"
     ]
    }
   ],
   "source": [
    "from proggyleg.proggyleg import generate_notebook_doc, execute_notebook_doc\n",
    "\n",
    "years = [\n",
    "    2020,\n",
    "    2021,\n",
    "    2022,\n",
    "    2023,\n",
    "    2024,\n",
    "    2025\n",
    "]\n",
    "leagues = [\n",
    "    # \"D1\",\n",
    "    # \"E0\",\n",
    "    # \"E1\",\n",
    "    # \"E2\",\n",
    "    # \"I1\",\n",
    "    # \"SC0\",\n",
    "    # \"SP1\",\n",
    "    \"FR1\",\n",
    "]\n",
    "\n",
    "combos = [(league, year) for league in leagues for year in years]\n",
    "\n",
    "for league, year in combos:\n",
    "    print(year, league)\n",
    "    generate_notebook_doc(year, league)\n",
    "    execute_notebook_doc(year, league)\n",
    "    print(\"done!\")"
   ]
  }
 ],
 "metadata": {
  "kernelspec": {
   "display_name": "Python 3",
   "language": "python",
   "name": "python3"
  },
  "language_info": {
   "codemirror_mode": {
    "name": "ipython",
    "version": 3
   },
   "file_extension": ".py",
   "mimetype": "text/x-python",
   "name": "python",
   "nbconvert_exporter": "python",
   "pygments_lexer": "ipython3",
   "version": "3"
  }
 },
 "nbformat": 4,
 "nbformat_minor": 2
}
