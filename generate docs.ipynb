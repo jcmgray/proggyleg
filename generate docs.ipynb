{
 "cells": [
  {
   "cell_type": "markdown",
   "id": "36c87f20-517d-475c-a346-519abf3c3fb9",
   "metadata": {},
   "source": [
    "# generate notebooks"
   ]
  },
  {
   "cell_type": "code",
   "execution_count": 1,
   "id": "02edafad-5cf1-4d9a-a6fc-bdac809adf43",
   "metadata": {},
   "outputs": [
    {
     "name": "stdout",
     "output_type": "stream",
     "text": [
      "2025 D1\n",
      "done!\n",
      "2025 E0\n",
      "done!\n",
      "2025 E1\n",
      "done!\n",
      "2025 E2\n",
      "done!\n",
      "2025 I1\n",
      "done!\n",
      "2025 SC0\n",
      "done!\n",
      "2025 SP1\n",
      "done!\n"
     ]
    }
   ],
   "source": [
    "from proggyleg.proggyleg import generate_notebook_doc, execute_notebook_doc\n",
    "\n",
    "combos = [\n",
    "    (\"D1\", 2025),\n",
    "    (\"E0\", 2025),\n",
    "    (\"E1\", 2025),\n",
    "    (\"E2\", 2025),\n",
    "    (\"I1\", 2025),\n",
    "    (\"SC0\", 2025),\n",
    "    (\"SP1\", 2025),\n",
    "]\n",
    "\n",
    "for league, year in combos:\n",
    "    print(year, league)\n",
    "    generate_notebook_doc(year, league)\n",
    "    execute_notebook_doc(year, league)\n",
    "    print(\"done!\")"
   ]
  },
  {
   "cell_type": "code",
   "execution_count": null,
   "metadata": {},
   "outputs": [],
   "source": []
  }
 ],
 "metadata": {
  "kernelspec": {
   "display_name": "default",
   "language": "python",
   "name": "python3"
  },
  "language_info": {
   "codemirror_mode": {
    "name": "ipython",
    "version": 3
   },
   "file_extension": ".py",
   "mimetype": "text/x-python",
   "name": "python",
   "nbconvert_exporter": "python",
   "pygments_lexer": "ipython3",
   "version": "3.13.7"
  }
 },
 "nbformat": 4,
 "nbformat_minor": 2
}
