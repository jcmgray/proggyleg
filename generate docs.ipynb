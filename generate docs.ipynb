{
 "cells": [
  {
   "cell_type": "markdown",
   "metadata": {},
   "source": [
    "# generate notebooks"
   ]
  },
  {
   "cell_type": "code",
   "execution_count": 1,
   "metadata": {},
   "outputs": [
    {
     "name": "stdout",
     "output_type": "stream",
     "text": [
      "2023 E0\n",
      "done!\n",
      "2024 E0\n",
      "done!\n",
      "2023 E1\n",
      "done!\n",
      "2024 E1\n",
      "done!\n",
      "2023 D1\n",
      "done!\n",
      "2024 D1\n",
      "done!\n",
      "2023 SC0\n",
      "done!\n",
      "2024 SC0\n",
      "done!\n",
      "2023 E2\n",
      "done!\n",
      "2024 E2\n",
      "done!\n",
      "2023 SP1\n",
      "done!\n",
      "2024 SP1\n",
      "done!\n",
      "2023 I1\n",
      "done!\n",
      "2024 I1\n",
      "done!\n"
     ]
    }
   ],
   "source": [
    "from proggyleg.proggyleg import generate_notebook_doc, execute_notebook_doc\n",
    "\n",
    "combos = [\n",
    "    # *[('E0', year) for year in range(1993, 2024)],\n",
    "    *[('E0', year) for year in range(2023, 2025)],\n",
    "    # *[('E1', year) for year in range(2004, 2024)],\n",
    "    *[('E1', year) for year in range(2023, 2025)],\n",
    "    # *[('D1', year) for year in range(2000, 2024)],\n",
    "    *[('D1', year) for year in range(2023, 2025)],\n",
    "    # *[('SC0', year) for year in range(2017, 2024)],\n",
    "    *[('SC0', year) for year in range(2023, 2025)],\n",
    "    # *[('E2', year) for year in range(2022, 2024)],\n",
    "    *[('E2', year) for year in range(2023, 2025)],\n",
    "    # *[('SP1', year) for year in range(2022, 2024)],\n",
    "    *[('SP1', year) for year in range(2023, 2025)],\n",
    "    # *[('I1', year) for year in range(2022, 2024)],\n",
    "    *[('I1', year) for year in range(2023, 2025)],\n",
    "]\n",
    "\n",
    "for league, year in combos:\n",
    "    print(year, league)\n",
    "    generate_notebook_doc(year, league)\n",
    "    execute_notebook_doc(year, league)\n",
    "    print(\"done!\")"
   ]
  }
 ],
 "metadata": {
  "kernelspec": {
   "display_name": "docs",
   "language": "python",
   "name": "python3"
  },
  "language_info": {
   "codemirror_mode": {
    "name": "ipython",
    "version": 3
   },
   "file_extension": ".py",
   "mimetype": "text/x-python",
   "name": "python",
   "nbconvert_exporter": "python",
   "pygments_lexer": "ipython3",
   "version": "3.11.9"
  }
 },
 "nbformat": 4,
 "nbformat_minor": 2
}
